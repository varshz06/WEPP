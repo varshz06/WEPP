{
  "nbformat": 4,
  "nbformat_minor": 0,
  "metadata": {
    "colab": {
      "provenance": []
    },
    "kernelspec": {
      "name": "python3",
      "display_name": "Python 3"
    },
    "language_info": {
      "name": "python"
    }
  },
  "cells": [
    {
      "cell_type": "markdown",
      "source": [
        "# **Assignment 06**"
      ],
      "metadata": {
        "id": "Ebxb4K8Z_jnz"
      }
    },
    {
      "cell_type": "markdown",
      "source": [
        "# 1.Print the first 10 natural number using for loop\n"
      ],
      "metadata": {
        "id": "CsgdkN-v_PSK"
      }
    },
    {
      "cell_type": "code",
      "execution_count": 1,
      "metadata": {
        "colab": {
          "base_uri": "https://localhost:8080/"
        },
        "id": "3SBG-m_l-9mB",
        "outputId": "87312f1a-2dc9-43ba-ee4b-2637dcaf1497"
      },
      "outputs": [
        {
          "output_type": "stream",
          "name": "stdout",
          "text": [
            "1\n",
            "2\n",
            "3\n",
            "4\n",
            "5\n",
            "6\n",
            "7\n",
            "8\n",
            "9\n",
            "10\n"
          ]
        }
      ],
      "source": [
        "#first natural numbers is from 1 to 10\n",
        "for i in range(1, 11):\n",
        "    print(i)"
      ]
    },
    {
      "cell_type": "markdown",
      "source": [
        "# 2.Python Program to check if the given string is palindrome"
      ],
      "metadata": {
        "id": "3C9iLD9c-_Bh"
      }
    },
    {
      "cell_type": "code",
      "source": [
        "#palindrome function to check if it is lowercase or any spaces\n",
        "def is_palindrome(s):\n",
        "\n",
        "    s = s.lower() #for case insensitivity\n",
        "\n",
        "    s = s.replace(\" \", \"\") #space removing\n",
        "\n",
        "    return s == s[::-1]\n",
        "\n",
        "# get user input string\n",
        "string = input(\"Enter a string: \")\n",
        "\n",
        "# checking now if it is palindrome or not\n",
        "if is_palindrome(string):\n",
        "    print(\"The string is a palindrome.\")\n",
        "else:\n",
        "    print(\"The string is not a palindrome.\")"
      ],
      "metadata": {
        "colab": {
          "base_uri": "https://localhost:8080/"
        },
        "id": "j8K4-TStAlcK",
        "outputId": "d93c3a72-58e2-4c79-b79f-6d9d3c449f11"
      },
      "execution_count": 2,
      "outputs": [
        {
          "output_type": "stream",
          "name": "stdout",
          "text": [
            "Enter a string: cherry\n",
            "The string is not a palindrome.\n"
          ]
        }
      ]
    },
    {
      "cell_type": "markdown",
      "source": [
        "# 3.Python Program to check if a given number is an Armstrong Number\n"
      ],
      "metadata": {
        "id": "C6_cuYLeAmbs"
      }
    },
    {
      "cell_type": "code",
      "source": [
        "n = int(input(\"Enter a number: \"))\n",
        "\n",
        "\n",
        "#initialize the sum\n",
        "s = 0\n",
        "\n",
        "t = n\n",
        "while t > 0:\n",
        "   digit = t % 10\n",
        "\n",
        "   s += digit ** 3\n",
        "\n",
        "   t //= 10\n",
        "\n",
        "\n",
        "\n",
        "# display the result\n",
        "\n",
        "if n == s:\n",
        "   print(n,\"is an Armstrong number\")\n",
        "else:\n",
        "   print(n,\"is not an Armstrong number\")\n"
      ],
      "metadata": {
        "colab": {
          "base_uri": "https://localhost:8080/"
        },
        "id": "QbsXRKNuBjf_",
        "outputId": "fa176a0a-2a82-4940-f039-f318abfe7b85"
      },
      "execution_count": 5,
      "outputs": [
        {
          "output_type": "stream",
          "name": "stdout",
          "text": [
            "Enter a number: 253\n",
            "253 is not an Armstrong number\n"
          ]
        }
      ]
    },
    {
      "cell_type": "markdown",
      "source": [
        "# 4.Python Program to get Fibonacci series between 0 to 50\n"
      ],
      "metadata": {
        "id": "MNfnI9v8Bn6A"
      }
    },
    {
      "cell_type": "code",
      "source": [
        "# Initialize variables 'x' and 'y' with values 0 and 1, respectively\n",
        "x, y = 0, 1\n",
        "\n",
        "# Execute the while loop until the value of 'y' becomes greater than or equal to 50\n",
        "\n",
        "while y < 50:\n",
        "   print(y)\n",
        "\n",
        "   # where 'x' becomes the previous value of 'y' and 'y' becomes the sum of 'x' and the previous value of 'y'\n",
        "   x, y = y, x + y"
      ],
      "metadata": {
        "colab": {
          "base_uri": "https://localhost:8080/"
        },
        "id": "6kKZ9IsbB3O2",
        "outputId": "de6ff770-efc9-487a-d0f6-94f8198dda16"
      },
      "execution_count": 3,
      "outputs": [
        {
          "output_type": "stream",
          "name": "stdout",
          "text": [
            "1\n",
            "1\n",
            "2\n",
            "3\n",
            "5\n",
            "8\n",
            "13\n",
            "21\n",
            "34\n"
          ]
        }
      ]
    },
    {
      "cell_type": "markdown",
      "source": [
        "# 5.Python Program to check the validity of password input by users"
      ],
      "metadata": {
        "id": "weZI_7yAB4Sx"
      }
    },
    {
      "cell_type": "code",
      "source": [
        "#to check password is valid to be followed by below rules\n",
        "#1Minimum 8 characters.\n",
        "#2The alphabet must be between [a-z]\n",
        "#3At least one alphabet should be of Upper Case [A-Z]\n",
        "#4At least 1 number or digit between [0-9].\n",
        "#4At least 1 character from [ _ or @ or $ ].(special character)\n",
        "\n",
        "import re\n",
        "password = input(\"Enter password\") #\"R@m@_f0rtu9e$\"\n",
        "flag = 0\n",
        "while True:\n",
        "    if (len(password)<=8):\n",
        "        flag = -1\n",
        "        break\n",
        "    elif not re.search(\"[a-z]\", password):\n",
        "        flag = -1\n",
        "        break\n",
        "    elif not re.search(\"[A-Z]\", password):\n",
        "        flag = -1\n",
        "        break\n",
        "    elif not re.search(\"[0-9]\", password):\n",
        "        flag = -1\n",
        "        break\n",
        "    elif not re.search(\"[_@$]\" , password):\n",
        "        flag = -1\n",
        "        break\n",
        "    elif re.search(\"\\s\" , password):\n",
        "        flag = -1\n",
        "        break\n",
        "    else:\n",
        "        flag = 0\n",
        "        print(\"Valid Password\")\n",
        "        break\n",
        "\n",
        "if flag == -1:\n",
        "    print(\"Not a Valid Password \")\n",
        "\n"
      ],
      "metadata": {
        "colab": {
          "base_uri": "https://localhost:8080/"
        },
        "id": "OMPCY3eCB4oo",
        "outputId": "aa850ee7-4132-4aa6-ec39-6f7efd0be34b"
      },
      "execution_count": 6,
      "outputs": [
        {
          "output_type": "stream",
          "name": "stdout",
          "text": [
            "enter passwordR@m@_f0rtu9e$\n",
            "Valid Password\n"
          ]
        }
      ]
    },
    {
      "cell_type": "code",
      "source": [],
      "metadata": {
        "id": "XA2GNRyJB5eh"
      },
      "execution_count": null,
      "outputs": []
    }
  ]
}