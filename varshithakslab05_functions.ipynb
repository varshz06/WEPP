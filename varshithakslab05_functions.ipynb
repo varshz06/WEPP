{
  "nbformat": 4,
  "nbformat_minor": 0,
  "metadata": {
    "colab": {
      "provenance": []
    },
    "kernelspec": {
      "name": "python3",
      "display_name": "Python 3"
    },
    "language_info": {
      "name": "python"
    }
  },
  "cells": [
    {
      "cell_type": "markdown",
      "source": [
        "# **ASSIGNMNET 04**"
      ],
      "metadata": {
        "id": "rgiWqYQTwfxI"
      }
    },
    {
      "cell_type": "markdown",
      "source": [
        "# 1.Declare a div() function with two parameters. Then call the function and pass two numbers and display their division\n"
      ],
      "metadata": {
        "id": "j_7hp4LVwnMP"
      }
    },
    {
      "cell_type": "code",
      "source": [
        "#defining a division function\n",
        "\n",
        "def div(a, b):\n",
        "  if b == 0:\n",
        "    return \"Division by zero is not allowed.\"\n",
        "  else:\n",
        "    return a / b\n",
        "\n",
        "#taking 2 input values\n",
        "num1 = int(input(\"Enter num1\\t\"))\n",
        "num2 = int(input(\"Enter num2\\t\"))\n",
        "\n",
        "#dispalying the result\n",
        "\n",
        "result = div(num1, num2)\n",
        "print(f\"The division of {num1} by {num2} is: {result}\")\n"
      ],
      "metadata": {
        "colab": {
          "base_uri": "https://localhost:8080/"
        },
        "id": "cxikpRh40KAj",
        "outputId": "fdf59c87-37a4-4fbc-fb75-4acae3a3d609"
      },
      "execution_count": null,
      "outputs": [
        {
          "output_type": "stream",
          "name": "stdout",
          "text": [
            "Enter num1\t3\n",
            "Enter num2\t5\n",
            "The division of 3 by 5 is: 0.6\n"
          ]
        }
      ]
    },
    {
      "cell_type": "markdown",
      "source": [
        "#2.Declare a square() function with one parameter .Then call the fuction and pass one number and display the square of that number"
      ],
      "metadata": {
        "id": "494wFVOExswb"
      }
    },
    {
      "cell_type": "code",
      "source": [
        "#define square function\n",
        "\n",
        "def sqr(num):\n",
        "    return num*num\n",
        "\n",
        "#getting an input for squaring\n",
        "value=int((input(\"Enter number\\t\")))\n",
        "\n",
        "#calling square function\n",
        "\n",
        "#sqr(value)\n",
        "print(f\"The square of {value} is:{sqr(value)}\")"
      ],
      "metadata": {
        "colab": {
          "base_uri": "https://localhost:8080/"
        },
        "id": "YHhNKCFk1gDC",
        "outputId": "ad599e4c-09d4-49f1-a3ba-6851d3a31e3e"
      },
      "execution_count": null,
      "outputs": [
        {
          "output_type": "stream",
          "name": "stdout",
          "text": [
            "Enter number\t525\n",
            "The square of 525 is:275625\n"
          ]
        }
      ]
    },
    {
      "cell_type": "markdown",
      "source": [
        "# 3.Using max() and min() functions display the maximum and minimum of 5 random numbers\n"
      ],
      "metadata": {
        "id": "xm7ML7pgyFUC"
      }
    },
    {
      "cell_type": "code",
      "source": [
        "# prompt: 3.Using max() and min() functions display the maximum and minimum of 5 random numbers simple program dont use random package\n",
        "\n",
        "numbers = []\n",
        "for i in range(5):\n",
        "    num = int(input(f\"Enter number {i+1}: \"))\n",
        "    numbers.append(num)\n",
        "\n",
        "print(\"Maximum:\", max(numbers))\n",
        "print(\"Minimum:\", min(numbers))\n"
      ],
      "metadata": {
        "id": "m1ML3f-1392p"
      },
      "execution_count": null,
      "outputs": []
    },
    {
      "cell_type": "markdown",
      "source": [
        "# 4.Accept a name from the user and display in lowercase using lower() function"
      ],
      "metadata": {
        "id": "EIGWp25wzEVe"
      }
    },
    {
      "cell_type": "code",
      "source": [
        "#taking input as string\n",
        "\n",
        "name = input(\"Enter your name: \")\n",
        "print(name.lower())\n"
      ],
      "metadata": {
        "colab": {
          "base_uri": "https://localhost:8080/"
        },
        "id": "oHHIBcNO6-oM",
        "outputId": "7e172e47-d06c-4f9d-bc36-a29205513f54"
      },
      "execution_count": null,
      "outputs": [
        {
          "output_type": "stream",
          "name": "stdout",
          "text": [
            "Enter your name: WELCOME\n",
            "welcome\n"
          ]
        }
      ]
    },
    {
      "cell_type": "markdown",
      "source": [],
      "metadata": {
        "id": "tbkCsLWV817I"
      }
    },
    {
      "cell_type": "markdown",
      "source": [
        "# 5.Write a Lambda function that takes one argument and returns 'Postive'if the number is greater than 0 ,'Negative' if its less than 0, and 'Zero',if its 0.Test it with different numbers\n"
      ],
      "metadata": {
        "id": "CC0i2mQ_zUjF"
      }
    },
    {
      "cell_type": "code",
      "source": [
        "#lambda x: part defines a function that takes one argument called x.\n",
        "#here lambda num , where num is a argument of lambda function\n",
        "\n",
        "num = int(input(\"Enter a number\"))\n",
        "check_sign = lambda num: 'Positive' if num > 0 else ('Negative' if num < 0 else 'Zero')\n",
        "\n",
        "# Test cases\n",
        "print(check_sign(num))      # Output: Positive\n",
        "#print(check_sign(-3))     # Output: Negative\n",
        "#print(check_sign(0))      # Output: Zero\n"
      ],
      "metadata": {
        "colab": {
          "base_uri": "https://localhost:8080/"
        },
        "id": "BnNq31jYzDQk",
        "outputId": "5ffa4256-841f-4cd5-81dd-db7e29b52fbf"
      },
      "execution_count": 1,
      "outputs": [
        {
          "output_type": "stream",
          "name": "stdout",
          "text": [
            "Enter a numner-9\n",
            "Negative\n"
          ]
        }
      ]
    },
    {
      "cell_type": "code",
      "source": [],
      "metadata": {
        "id": "THYcFPyowm4L"
      },
      "execution_count": null,
      "outputs": []
    },
    {
      "cell_type": "code",
      "source": [],
      "metadata": {
        "id": "1RsX7WOPwm0w"
      },
      "execution_count": null,
      "outputs": []
    },
    {
      "cell_type": "code",
      "source": [],
      "metadata": {
        "id": "964QxV2vwmx1"
      },
      "execution_count": null,
      "outputs": []
    },
    {
      "cell_type": "code",
      "source": [],
      "metadata": {
        "id": "ICP7MAZ7wmvQ"
      },
      "execution_count": null,
      "outputs": []
    },
    {
      "cell_type": "code",
      "source": [],
      "metadata": {
        "id": "W1sCThOCwmsq"
      },
      "execution_count": null,
      "outputs": []
    },
    {
      "cell_type": "code",
      "source": [],
      "metadata": {
        "id": "vvKEKZEqwmp2"
      },
      "execution_count": null,
      "outputs": []
    },
    {
      "cell_type": "code",
      "execution_count": null,
      "metadata": {
        "id": "jLwkCP1Uwe2x"
      },
      "outputs": [],
      "source": []
    }
  ]
}