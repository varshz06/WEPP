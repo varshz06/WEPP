{
  "nbformat": 4,
  "nbformat_minor": 0,
  "metadata": {
    "colab": {
      "provenance": []
    },
    "kernelspec": {
      "name": "python3",
      "display_name": "Python 3"
    },
    "language_info": {
      "name": "python"
    }
  },
  "cells": [
    {
      "cell_type": "markdown",
      "source": [
        "# **Assignment 02**"
      ],
      "metadata": {
        "id": "JImefzeCPR4k"
      }
    },
    {
      "cell_type": "markdown",
      "source": [
        "# 1.Using input() function take one number from the user and using ternary operators check whether the number is even or odd"
      ],
      "metadata": {
        "id": "VsutWSF7PbQ_"
      }
    },
    {
      "cell_type": "code",
      "execution_count": null,
      "metadata": {
        "colab": {
          "base_uri": "https://localhost:8080/"
        },
        "id": "zWI_RNrHPGnh",
        "outputId": "212a7d6f-c6a0-4ddf-e3c4-754bad82150a"
      },
      "outputs": [
        {
          "output_type": "stream",
          "name": "stdout",
          "text": [
            "Enter a number3\n",
            "3 is odd\n"
          ]
        }
      ],
      "source": [
        "#get and single input value\n",
        "\n",
        "num=int(input(\"Enter a number\"))\n",
        "\n",
        "#using ternary operator to decide num is odd or even\n",
        "\n",
        "print(f\"{num} is even\") if num%2==0 else print(f\"{num} is odd\")"
      ]
    },
    {
      "cell_type": "markdown",
      "source": [
        "# 2.Using input function take two number and then swap the number\n"
      ],
      "metadata": {
        "id": "Ien6OdVvPvWt"
      }
    },
    {
      "cell_type": "code",
      "source": [
        "from tempfile import template\n",
        "#get 2 numbers\n",
        "\n",
        "a=int(input(\"Enter 1st value\\t\"))\n",
        "b=int(input(\"Enter 2nd value\\t\"))\n",
        "\n",
        "temp=a\n",
        "a=b\n",
        "b=temp\n",
        "\n",
        "#printing a and b values after swapping\n",
        "\n",
        "print(f\"a={a} and b={b}\")"
      ],
      "metadata": {
        "colab": {
          "base_uri": "https://localhost:8080/"
        },
        "id": "T06-zS0_Pu2k",
        "outputId": "77e63b67-62f0-40f0-a87e-76c8f60bb978"
      },
      "execution_count": null,
      "outputs": [
        {
          "output_type": "stream",
          "name": "stdout",
          "text": [
            "Enter 1st value\t9\n",
            "Enter 2nd value\t8\n",
            "a=8 and b=9\n"
          ]
        }
      ]
    },
    {
      "cell_type": "markdown",
      "source": [
        "# 3.Write a program to convert kilometers to miles"
      ],
      "metadata": {
        "id": "L_sXDez4P9hM"
      }
    },
    {
      "cell_type": "code",
      "source": [
        "#getting kilometer as input\n",
        "\n",
        "kilo=int(input(\"Enter Kilometer(kms)\\t\"))\n",
        "\n",
        "#1km = 0.621371 miles\n",
        "#so for converting given km need to multiply km*0.621371\n",
        "\n",
        "miles=kilo*0.621371\n",
        "\n",
        "print(\"Miles =\",miles)"
      ],
      "metadata": {
        "colab": {
          "base_uri": "https://localhost:8080/"
        },
        "id": "X-GNPF9HS-gh",
        "outputId": "db86fcf9-c103-405b-eca0-e6199d3fe40c"
      },
      "execution_count": null,
      "outputs": [
        {
          "output_type": "stream",
          "name": "stdout",
          "text": [
            "Enter Kilometer(kms)\t45\n",
            "Miles = 27.961695\n"
          ]
        }
      ]
    },
    {
      "cell_type": "markdown",
      "source": [
        "# 4.Find the Simpe Interest on Rs.200 for 5 years at 5% per year\n"
      ],
      "metadata": {
        "id": "bWjP-FaPQHsY"
      }
    },
    {
      "cell_type": "code",
      "source": [
        "# P = Principal Amount, R = Rate of Interest and T = Time.\n",
        "#principle is 200  ,rate= 5%  time = 5years\n",
        "#simple interest formula= P*T*R/100\n",
        "\n",
        "#intiizing p t r as given values\n",
        "\n",
        "p=200\n",
        "r=5\n",
        "t=5\n",
        "print(\"principal Amount =\",p)\n",
        "print(\"Rate Of Interest =\",r)\n",
        "print(\"Time =\",t)\n",
        "\n",
        "SI=(p*t*r)/100\n",
        "\n",
        "print(\"Simple interest=\",SI)\n",
        "\n"
      ],
      "metadata": {
        "colab": {
          "base_uri": "https://localhost:8080/"
        },
        "id": "lEngejiTUW4b",
        "outputId": "b77d9ee5-3cad-47b5-ec0d-f6049261c492"
      },
      "execution_count": null,
      "outputs": [
        {
          "output_type": "stream",
          "name": "stdout",
          "text": [
            "principal Amount = 200\n",
            "Rate Of Interest = 5\n",
            "Time = 5\n",
            "Simple interest= 50.0\n"
          ]
        }
      ]
    }
  ]
}