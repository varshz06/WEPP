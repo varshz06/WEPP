{
  "nbformat": 4,
  "nbformat_minor": 0,
  "metadata": {
    "colab": {
      "provenance": []
    },
    "kernelspec": {
      "name": "python3",
      "display_name": "Python 3"
    },
    "language_info": {
      "name": "python"
    }
  },
  "cells": [
    {
      "cell_type": "markdown",
      "source": [
        "# **ASSIGNMENT -13**\n"
      ],
      "metadata": {
        "id": "h0GU4iJZpYJX"
      }
    },
    {
      "cell_type": "markdown",
      "source": [
        "#1.Write a python program to get only unique items frm two sets\n",
        "\n",
        "#input:\n",
        "#set1={10,20,30,40,50}\n",
        "#set2={30,40,50,60,70}\n",
        "\n",
        "#output\n",
        "#{70,40,10,50,20,60,30}"
      ],
      "metadata": {
        "id": "qR8PuLcrpgun"
      }
    },
    {
      "cell_type": "code",
      "execution_count": 1,
      "metadata": {
        "colab": {
          "base_uri": "https://localhost:8080/"
        },
        "id": "Zu--Qpp5pSCB",
        "outputId": "5f53db10-f0c6-4db5-c483-e4d0b650aac6"
      },
      "outputs": [
        {
          "output_type": "stream",
          "name": "stdout",
          "text": [
            "{70, 40, 10, 50, 20, 60, 30}\n"
          ]
        }
      ],
      "source": [
        "# Given 2 sets Set1 and Set2\n",
        "set1 = {10, 20, 30, 40, 50}\n",
        "set2 = {30, 40, 50, 60, 70}\n",
        "\n",
        "# using the union() function extracting unique numbers\n",
        "unique_num = set1.union(set2)\n",
        "\n",
        "# Print the result\n",
        "print(unique_num)\n"
      ]
    },
    {
      "cell_type": "markdown",
      "source": [
        "#2.Write a python program to return a set of elements present in a set A or B , but not both\n",
        "\n",
        "#Input:\n",
        "#set1={10,20,30,40,50}\n",
        "#set2={30,40,50,60,70}\n",
        "\n",
        "#Output:\n",
        "#{20,70,10,60}"
      ],
      "metadata": {
        "id": "sZLUFmzdrSpS"
      }
    },
    {
      "cell_type": "code",
      "source": [
        "# Setting 2 Sets\n",
        "set1 = {10, 20, 30, 40, 50}\n",
        "set2 = {30, 40, 50, 60, 70}\n",
        "\n",
        "#The symmetric difference will return elements that are in either one of the sets, but not in both.\n",
        "\n",
        "# Get the symmetric difference between set1 and set2[Set1^Set2]\n",
        "result = set1.symmetric_difference(set2)\n",
        "\n",
        "# Print the result\n",
        "print(result)\n"
      ],
      "metadata": {
        "colab": {
          "base_uri": "https://localhost:8080/"
        },
        "id": "zzJwTKWPsUdj",
        "outputId": "7484829a-34db-45c5-c3ea-88bd216cb344"
      },
      "execution_count": 2,
      "outputs": [
        {
          "output_type": "stream",
          "name": "stdout",
          "text": [
            "{20, 70, 10, 60}\n"
          ]
        }
      ]
    },
    {
      "cell_type": "markdown",
      "source": [
        "#3.Write a python program to check if two sets have any elements in common.If yes ,display the common elements\n",
        "\n",
        "#Input\n",
        "\n",
        "#Set1={10.20,30,40,50}\n",
        "#Set2={60,70,80,90,10}\n",
        "\n",
        "#Output :\n",
        "#{10}"
      ],
      "metadata": {
        "id": "zk5xu-YXscoF"
      }
    },
    {
      "cell_type": "code",
      "source": [
        "# Initializing 2 sets\n",
        "set1 = {10, 20, 30, 40, 50}\n",
        "set2 = {60, 70, 80, 90, 10}\n",
        "\n",
        "# intersection() method which returns a new set containing only the elements that are common to both sets.\n",
        "\n",
        "#using intersection() will get common elements\n",
        "common_elements = set1.intersection(set2)\n",
        "\n",
        "#if else to check if common elements then to display elements\n",
        "if common_elements:\n",
        "    print(\"The Common Elements of Set1 & Set2 is :\",common_elements)\n",
        "else:\n",
        "    print(\"No common elements\")\n",
        "\n"
      ],
      "metadata": {
        "colab": {
          "base_uri": "https://localhost:8080/"
        },
        "id": "33OyFCrDtRja",
        "outputId": "48d2a612-7833-4a63-f1bc-5891a448cee5"
      },
      "execution_count": 5,
      "outputs": [
        {
          "output_type": "stream",
          "name": "stdout",
          "text": [
            "The Common Elements of Set1 & Set2 is : {10}\n"
          ]
        }
      ]
    },
    {
      "cell_type": "markdown",
      "source": [
        "#4.Write a python program to Remove items from set1 that are not common to both set1 and set2\n",
        "\n",
        "#Input:\n",
        "#Set1={10,20,30,40,50}\n",
        "#set2={30,40,50,60,70}\n",
        "\n",
        "#Output\n",
        "#{40,50,30}"
      ],
      "metadata": {
        "id": "P5Rvsbq7tY7O"
      }
    },
    {
      "cell_type": "code",
      "source": [
        "# Defining Sets\n",
        "set1 = {10, 20, 30, 40, 50}\n",
        "set2 = {30, 40, 50, 60, 70}\n",
        "\n",
        "# Use list comprehension to keep only common elements\n",
        "set1 = {x for x in set1 if x in set2}\n",
        "\n",
        "# Print the updated set1\n",
        "print(set1)\n"
      ],
      "metadata": {
        "colab": {
          "base_uri": "https://localhost:8080/"
        },
        "id": "1M1UyvZnuGQz",
        "outputId": "6ddc99ab-3217-4fa7-e827-9c075c76deb3"
      },
      "execution_count": 6,
      "outputs": [
        {
          "output_type": "stream",
          "name": "stdout",
          "text": [
            "{40, 50, 30}\n"
          ]
        }
      ]
    },
    {
      "cell_type": "code",
      "source": [],
      "metadata": {
        "id": "lfMENZJOerjC"
      },
      "execution_count": null,
      "outputs": []
    },
    {
      "cell_type": "code",
      "source": [],
      "metadata": {
        "id": "2RCpAToOerf0"
      },
      "execution_count": null,
      "outputs": []
    },
    {
      "cell_type": "code",
      "source": [],
      "metadata": {
        "id": "Y0rnC18FerdR"
      },
      "execution_count": null,
      "outputs": []
    }
  ]
}