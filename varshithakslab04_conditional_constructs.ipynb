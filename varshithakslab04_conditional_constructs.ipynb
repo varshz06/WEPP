{
  "nbformat": 4,
  "nbformat_minor": 0,
  "metadata": {
    "colab": {
      "provenance": []
    },
    "kernelspec": {
      "name": "python3",
      "display_name": "Python 3"
    },
    "language_info": {
      "name": "python"
    }
  },
  "cells": [
    {
      "cell_type": "markdown",
      "source": [
        "# **ASSINMENT 03**"
      ],
      "metadata": {
        "id": "RqmUZbVh5lFL"
      }
    },
    {
      "cell_type": "markdown",
      "source": [
        "# 1.Python Program to check Leap Year\n"
      ],
      "metadata": {
        "id": "OpI6a67655WG"
      }
    },
    {
      "cell_type": "code",
      "execution_count": null,
      "metadata": {
        "colab": {
          "base_uri": "https://localhost:8080/"
        },
        "id": "mkDKhvFK0oNX",
        "outputId": "56f5314e-c219-4ca1-a698-0455db88eab5"
      },
      "outputs": [
        {
          "output_type": "stream",
          "name": "stdout",
          "text": [
            "Enter the year :\t2024\n",
            "Leap Year\n"
          ]
        }
      ],
      "source": [
        "#take user input as year\n",
        "\n",
        "year =int(input(\"Enter the year :\\t\"))\n",
        "\n",
        "#code to check the year is leap year or not\n",
        "\n",
        "if (year%400 == 0) or (year%4==0 and year%100!=0):\n",
        "    print(\"Leap Year\")\n",
        "else:\n",
        "    print(\"Not a Leap Year\")\n"
      ]
    },
    {
      "cell_type": "markdown",
      "source": [
        "# 2.Python Program to find thelargest amoung three numbers"
      ],
      "metadata": {
        "id": "K9cF3lT87Egp"
      }
    },
    {
      "cell_type": "code",
      "source": [
        "#get 3 numbers from user\n",
        "\n",
        "num1=int(input(\"Enter the first number:\\t\"))\n",
        "num2=int(input(\"Enter the Second number:\\t\"))\n",
        "num3=int(input(\"Enter the Third number:\\t\"))\n",
        "\n",
        "if (num1 >= num2) and (num1 >= num3):\n",
        "   largest = num1\n",
        "elif (num2 >= num1) and (num2 >= num3):\n",
        "   largest = num2\n",
        "else:\n",
        "   largest = num3\n",
        "\n",
        "print(\"The largest number is\\t\", largest)"
      ],
      "metadata": {
        "colab": {
          "base_uri": "https://localhost:8080/"
        },
        "id": "WAbjRO4u6CWg",
        "outputId": "a5795dde-65ad-42e8-822d-6177a5f4ba51"
      },
      "execution_count": null,
      "outputs": [
        {
          "output_type": "stream",
          "name": "stdout",
          "text": [
            "Enter the first number:\t4\n",
            "Enter the Second number:\t7\n",
            "Enter the Third number:\t9\n",
            "The largest number is\t 9\n"
          ]
        }
      ]
    },
    {
      "cell_type": "markdown",
      "source": [
        "# 3.Python program to check if a number is positive negative or zero\n"
      ],
      "metadata": {
        "id": "bxOxokOO8hTe"
      }
    },
    {
      "cell_type": "code",
      "source": [
        "#user input to get a num\n",
        "\n",
        "number=int(input(\"Enter the number\\t\"))\n",
        "\n",
        "#logic\n",
        "\n",
        "if(number>0):\n",
        "  if(number==0):\n",
        "    print(\"number is zero\")\n",
        "  else:\n",
        "    print(\"'number' is Positive\")\n",
        "else:\n",
        "  print(\"number is Negative\")\n"
      ],
      "metadata": {
        "colab": {
          "base_uri": "https://localhost:8080/"
        },
        "id": "F4m9yXsU6CTn",
        "outputId": "af747cf7-d449-4b2b-d069-41f6fe478c3d"
      },
      "execution_count": null,
      "outputs": [
        {
          "output_type": "stream",
          "name": "stdout",
          "text": [
            "Enter the number\t-8\n",
            "number is Negative\n"
          ]
        }
      ]
    },
    {
      "cell_type": "markdown",
      "source": [
        "# 4.A Toy Vendor supplies three types of toys:Battery -Based ,Key-Based and Electrical charging -Based toys.\n",
        "\n",
        "# ->The vendor gives a discount of 10% on orders for Battery -Based toys if the orderis for more than Rs 1000\n",
        "# ->on orders for more than 100 for Key-Based toys , a discount of 5% is given\n",
        "\n",
        "# ->and a discount of 10% is given on orders for Electrical charging -Based toys of value more than Rs 500\n",
        "\n",
        "# Assume that the numeric code 1 2 and 3 are used for Battery -Based ,Key-Based and Electrical charging -Based toys respectively.\n",
        "# Write a Program that reads the product code and the order amount and print out the net amount that the customer is required to pay after the discount.\n"
      ],
      "metadata": {
        "id": "7c4BM48a9zeX"
      }
    },
    {
      "cell_type": "code",
      "source": [
        "# Get input from user\n",
        "product_code = int(input(\"Enter the product code (1 for Battery-Based, 2 for Key-Based, 3 for Electrical Charging-Based): \"))\n",
        "\n",
        "# Check if the product code is valid (1, 2, or 3)\n",
        "if product_code not in [1, 2, 3]:\n",
        "    print(\"Invalid product code! Please enter a valid product code (1, 2, or 3).\")\n",
        "else:\n",
        "    order_amount = float(input(\"Enter the order amount: Rs \"))\n",
        "\n",
        "    # Initializing  discount vriable  to 0 (no discount by default)\n",
        "    discount = 0\n",
        "\n",
        "    # Check for the discount based on the product code and order amount\n",
        "    if product_code == 1 and order_amount > 1000:  # Battery-Based toys\n",
        "        discount = 0.10  # 10% discount\n",
        "    elif product_code == 2 and order_amount > 100:  # Key-Based toys\n",
        "        discount = 0.05  # 5% discount\n",
        "    elif product_code == 3 and order_amount > 500:  # Electrical Charging-Based toys\n",
        "        discount = 0.10  # 10% discount\n",
        "\n",
        "    # Calculate the final amount after applying the discount\n",
        "    net_amount = order_amount - (order_amount * discount)\n",
        "\n",
        "    # Display the final amount to be paid\n",
        "    print(f\"The net amount to be paid after discount is: Rs {net_amount:.2f}\")"
      ],
      "metadata": {
        "colab": {
          "base_uri": "https://localhost:8080/"
        },
        "id": "keHJ-MvyLifD",
        "outputId": "56ef94b5-cb4e-4bda-8090-26f27c002c1e"
      },
      "execution_count": null,
      "outputs": [
        {
          "output_type": "stream",
          "name": "stdout",
          "text": [
            "Enter the product code (1 for Battery-Based, 2 for Key-Based, 3 for Electrical Charging-Based): 8\n",
            "Invalid product code! Please enter a valid product code (1, 2, or 3).\n"
          ]
        }
      ]
    },
    {
      "cell_type": "markdown",
      "source": [
        "5.A Transport Company Charges the fare According to following table:\n",
        "\n",
        "Distance                             |          Charges\n",
        "-------------------------------------|----------------------------------------\n",
        "1 - 50                               |          8Rs/km\n",
        "51 -100                              |          10Rs/km\n",
        ">100                                 |          12Rs/km"
      ],
      "metadata": {
        "id": "9tckCcwrNzRD"
      }
    },
    {
      "cell_type": "code",
      "source": [
        "# Get input from user for the distance traveled\n",
        "distance = float(input(\"Enter the distance traveled in km: \"))\n",
        "\n",
        "# calculating fare\n",
        "if distance <= 50:\n",
        "    fare = distance * 8  # 8 Rs/km for distances up to 50\n",
        "elif distance <= 100:\n",
        "    fare = distance * 10  # 10 Rs/km for distances between 51 and 100\n",
        "else:\n",
        "    fare = distance * 12  # 12 Rs/km for distances greater than 100\n",
        "\n",
        "# display the fare\n",
        "print(f\"The total fare for {distance} km is: Rs {fare:.2f}\")"
      ],
      "metadata": {
        "colab": {
          "base_uri": "https://localhost:8080/"
        },
        "id": "rt_yao9PLibr",
        "outputId": "48b521b7-252c-4fbd-86fc-119a3ea8652b"
      },
      "execution_count": null,
      "outputs": [
        {
          "output_type": "stream",
          "name": "stdout",
          "text": [
            "Enter the distance traveled in km: 78\n",
            "The total fare for 78.0 km is: Rs 780.00\n"
          ]
        }
      ]
    },
    {
      "cell_type": "code",
      "source": [],
      "metadata": {
        "id": "VQGviDZ4Lhy-"
      },
      "execution_count": null,
      "outputs": []
    },
    {
      "cell_type": "markdown",
      "source": [],
      "metadata": {
        "id": "-i2_fjDR6Bem"
      }
    }
  ]
}