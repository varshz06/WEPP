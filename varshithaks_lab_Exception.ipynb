{
  "nbformat": 4,
  "nbformat_minor": 0,
  "metadata": {
    "colab": {
      "provenance": []
    },
    "kernelspec": {
      "name": "python3",
      "display_name": "Python 3"
    },
    "language_info": {
      "name": "python"
    }
  },
  "cells": [
    {
      "cell_type": "markdown",
      "source": [
        "# **ASSIGNMENT - 14**"
      ],
      "metadata": {
        "id": "BMV8KPoPoLJT"
      }
    },
    {
      "cell_type": "markdown",
      "source": [
        "#1.Write a Python Program to handle a zeroDivisionError Exception when dividing a number by zero"
      ],
      "metadata": {
        "id": "VDko8XpKocfA"
      }
    },
    {
      "cell_type": "code",
      "source": [
        "# Function to divide two numbers\n",
        "def perform_division(dividend, divisor):\n",
        "    try:\n",
        "        # Attempting to divide the numbers\n",
        "        division_result = dividend / divisor\n",
        "    except ZeroDivisionError:\n",
        "        # Handling ZeroDivisionError specifically\n",
        "        return \"Error: Cannot divide by zero.\"\n",
        "    except Exception as error:\n",
        "        # Catching any other unexpected errors (General exception concept)\n",
        "        return f\"An unexpected error occurred: {error}\"\n",
        "    else:\n",
        "        # If no exceptions occur, return the result\n",
        "        return f\"Result: {division_result}\"\n",
        "\n",
        "# Example usage with user input\n",
        "try:\n",
        "    # Taking user input for numerator and denominator\n",
        "    numerator = float(input(\"Please enter the numerator: \"))\n",
        "    denominator = float(input(\"Please enter the denominator: \"))\n",
        "\n",
        "    # Call the function to perform division\n",
        "    result = perform_division(numerator, denominator)\n",
        "    print(result)\n",
        "\n",
        "except ValueError:\n",
        "    # Handle invalid input (if the user does not enter a number)\n",
        "    print(\"Error: Please enter valid numerical values.\")\n",
        "\n"
      ],
      "metadata": {
        "colab": {
          "base_uri": "https://localhost:8080/"
        },
        "id": "3L3UNHLooxAt",
        "outputId": "11cb9b47-06aa-4aa9-a1c9-64ba4735efc3"
      },
      "execution_count": 16,
      "outputs": [
        {
          "output_type": "stream",
          "name": "stdout",
          "text": [
            "Please enter the numerator: 5\n",
            "Please enter the denominator: 0\n",
            "Error: Cannot divide by zero.\n"
          ]
        }
      ]
    },
    {
      "cell_type": "markdown",
      "source": [
        "#2.Write a Python Program that promots the user to input an integer and raises a ValueError Exception if the input is not a valid integer"
      ],
      "metadata": {
        "id": "A8yDQSpgoyi8"
      }
    },
    {
      "cell_type": "code",
      "source": [
        "# Function to ask the user for a valid integer input\n",
        "def get_integer_from_user():\n",
        "    try:\n",
        "        # Prompting the user to enter a number\n",
        "        input_value = input(\"Please enter a valid integer: \")\n",
        "\n",
        "        # Attempting to convert the input to an integer\n",
        "        converted_value = int(input_value)\n",
        "\n",
        "    except ValueError:\n",
        "        # Handling the error if the input cannot be converted to an integer\n",
        "        print(\"Error: The input is not a valid integer.\")\n",
        "    else:\n",
        "        # Returning the converted integer if successful\n",
        "        return converted_value\n",
        "\n",
        "# Example usage\n",
        "user_number = get_integer_from_user()\n",
        "\n",
        "# If a valid number was entered, display it\n",
        "if user_number is not None:\n",
        "    print(f\"You entered: {user_number}\")\n",
        "\n"
      ],
      "metadata": {
        "colab": {
          "base_uri": "https://localhost:8080/"
        },
        "id": "XM7QJBKuow9T",
        "outputId": "06b769fe-24aa-4c68-a23f-d6669ae9fb46"
      },
      "execution_count": 17,
      "outputs": [
        {
          "output_type": "stream",
          "name": "stdout",
          "text": [
            "Please enter a valid integer: 2sr4\n",
            "Error: The input is not a valid integer.\n"
          ]
        }
      ]
    },
    {
      "cell_type": "code",
      "execution_count": null,
      "metadata": {
        "id": "JBIIyps0oKRp"
      },
      "outputs": [],
      "source": []
    },
    {
      "cell_type": "markdown",
      "source": [],
      "metadata": {
        "id": "CtW7GMJIuwfv"
      }
    },
    {
      "cell_type": "markdown",
      "source": [
        "#3.Write a Python program that opens a file and handles a FileNotFoundError exception if the file does not exist."
      ],
      "metadata": {
        "id": "JgeqdO28pAwP"
      }
    },
    {
      "cell_type": "code",
      "source": [
        "# Function to open a file and read its contents\n",
        "def read_file(file_name):\n",
        "    try:\n",
        "        # Attempting to open the file in read mode\n",
        "        with open(file_name, 'r') as file:\n",
        "            content = file.read()\n",
        "            return content\n",
        "    except FileNotFoundError:\n",
        "        # Handling FileNotFoundError if the file does not exist\n",
        "        return f\"Error: The file '{file_name}' was not found.\"\n",
        "    except Exception as e:\n",
        "        # Catching any other unexpected errors\n",
        "        return f\"An unexpected error occurred: {e}\"\n",
        "\n",
        "# Example usage\n",
        "file_name = input(\"Enter the name of the file to open: \")\n",
        "result = read_file(file_name)\n",
        "\n",
        "# Output the result (file content or error message)\n",
        "print(result)\n"
      ],
      "metadata": {
        "colab": {
          "base_uri": "https://localhost:8080/"
        },
        "id": "XXXZvMZ4qV-Q",
        "outputId": "d018cff1-be2e-4b8d-cb1b-26dbeff96bc2"
      },
      "execution_count": 19,
      "outputs": [
        {
          "output_type": "stream",
          "name": "stdout",
          "text": [
            "Enter the name of the file to open: NVidia.txt\n",
            "Error: The file 'NVidia.txt' was not found.\n"
          ]
        }
      ]
    },
    {
      "cell_type": "markdown",
      "source": [
        "#4)Write a python program that promots the user to input two numbers and raises a TypeError Exception if the inputs are not numerical"
      ],
      "metadata": {
        "id": "8JZIMMBYpQbo"
      }
    },
    {
      "cell_type": "code",
      "source": [
        "# Function to prompt the user to input two numbers\n",
        "def get_numbers_from_user():\n",
        "    try:\n",
        "        # Prompting the user for the first and second numbers\n",
        "        first_input = input(\"Enter the first number: \")\n",
        "        second_input = input(\"Enter the second number: \")\n",
        "\n",
        "        # Attempting to convert the inputs to floats\n",
        "        first_number = float(first_input)\n",
        "        second_number = float(second_input)\n",
        "\n",
        "        # Returning the valid numbers if no exception occurs\n",
        "        return first_number, second_number\n",
        "    except ValueError:\n",
        "        # If the input cannot be converted to a float, raise a TypeError\n",
        "        raise TypeError(\"Both inputs must be numerical values.\")\n",
        "\n",
        "# Example usage\n",
        "try:\n",
        "    num1, num2 = get_numbers_from_user()\n",
        "    print(f\"You entered: {num1} and {num2}\")\n",
        "except TypeError as error:\n",
        "    print(error)\n"
      ],
      "metadata": {
        "colab": {
          "base_uri": "https://localhost:8080/"
        },
        "id": "4Fvp6JFYpQFU",
        "outputId": "02ed0d2c-8905-46ca-eedd-2eb81e888838"
      },
      "execution_count": 21,
      "outputs": [
        {
          "output_type": "stream",
          "name": "stdout",
          "text": [
            "Enter the first number: ninety\n",
            "Enter the second number: 89\n",
            "Both inputs must be numerical values.\n"
          ]
        }
      ]
    },
    {
      "cell_type": "code",
      "source": [],
      "metadata": {
        "id": "RLVRHfK4wd-4"
      },
      "execution_count": null,
      "outputs": []
    },
    {
      "cell_type": "code",
      "source": [],
      "metadata": {
        "id": "MjTPBLbpwd7d"
      },
      "execution_count": null,
      "outputs": []
    },
    {
      "cell_type": "code",
      "source": [],
      "metadata": {
        "id": "mMds_LQgwd4e"
      },
      "execution_count": null,
      "outputs": []
    },
    {
      "cell_type": "markdown",
      "source": [],
      "metadata": {
        "id": "iGYBeyT9snXu"
      }
    },
    {
      "cell_type": "markdown",
      "source": [],
      "metadata": {
        "id": "cmZAguk1snUW"
      }
    },
    {
      "cell_type": "markdown",
      "source": [],
      "metadata": {
        "id": "LOvN_gLzsnRh"
      }
    },
    {
      "cell_type": "code",
      "source": [],
      "metadata": {
        "id": "pqhefbbzsnFD"
      },
      "execution_count": null,
      "outputs": []
    }
  ]
}