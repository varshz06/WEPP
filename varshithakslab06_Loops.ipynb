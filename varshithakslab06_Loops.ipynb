{
  "nbformat": 4,
  "nbformat_minor": 0,
  "metadata": {
    "colab": {
      "provenance": []
    },
    "kernelspec": {
      "name": "python3",
      "display_name": "Python 3"
    },
    "language_info": {
      "name": "python"
    }
  },
  "cells": [
    {
      "cell_type": "markdown",
      "source": [
        "# **Assignment-05**\n"
      ],
      "metadata": {
        "id": "Llh21qhkBtXM"
      }
    },
    {
      "cell_type": "markdown",
      "source": [
        "# 1.Write a Python Program To reverse a number using while loop"
      ],
      "metadata": {
        "id": "ObTdyF7SB81V"
      }
    },
    {
      "cell_type": "code",
      "source": [
        "#get user input\n",
        "number = int(input(\"Enter a number:\"))\n",
        "\n",
        "#initilize rev_num as 0\n",
        "revs_num=0\n",
        "\n",
        "while (number > 0):\n",
        "    remainder = number % 10\n",
        "    revs_num = (revs_num * 10) + remainder\n",
        "    number = number // 10\n",
        "\n",
        "\n",
        "print(\"The reverse number is :\",revs_num)"
      ],
      "metadata": {
        "colab": {
          "base_uri": "https://localhost:8080/"
        },
        "id": "sJlNpLUMcBVG",
        "outputId": "52d9954a-b75b-486c-8ef9-a9e5d76d7f6e"
      },
      "execution_count": 2,
      "outputs": [
        {
          "output_type": "stream",
          "name": "stdout",
          "text": [
            "Enter a number:7896\n",
            "The reverse number is : 6987\n"
          ]
        }
      ]
    },
    {
      "cell_type": "markdown",
      "source": [
        "# 2.Write a Python Program to check whether a number is palindrome or not"
      ],
      "metadata": {
        "id": "rxHkV5rhCNr3"
      }
    },
    {
      "cell_type": "code",
      "source": [
        "#get user input\n",
        "numb = int(input(\"Enter a number:\"))\n",
        "\n",
        "temp = numb\n",
        "reverse = 0\n",
        "while temp > 0:\n",
        "    remainder = temp % 10\n",
        "    reverse = (reverse * 10) + remainder\n",
        "    temp = temp // 10\n",
        "if numb == reverse:\n",
        "  print('Palindrome')\n",
        "else:\n",
        "  print(\"Not Palindrome\")"
      ],
      "metadata": {
        "colab": {
          "base_uri": "https://localhost:8080/"
        },
        "id": "okShHtlqdjXG",
        "outputId": "f7c00dd3-dc49-4bb6-c28e-df85fd86ec8d"
      },
      "execution_count": 3,
      "outputs": [
        {
          "output_type": "stream",
          "name": "stdout",
          "text": [
            "Enter a number:678\n",
            "Not Palindrome\n"
          ]
        }
      ]
    },
    {
      "cell_type": "markdown",
      "source": [
        "# 3.Write a Python Program finding a factorial of given a number using a while loop"
      ],
      "metadata": {
        "id": "OXS-K42OCbmb"
      }
    },
    {
      "cell_type": "code",
      "source": [
        "#input a number\n",
        "\n",
        "num1=int(input(\"Enter a number\"))\n",
        "\n",
        "# Initializing the factorial variable to 1\n",
        "factorial = 1\n",
        "\n",
        "#calculating factorial using for loop\n",
        "for i in range(1, num1 + 1):\n",
        "    factorial *= i\n",
        "\n",
        "#display the final output\n",
        "print(f\"The factorial of {num1} is {factorial}\")"
      ],
      "metadata": {
        "colab": {
          "base_uri": "https://localhost:8080/"
        },
        "id": "ZMF5I05vt1Zc",
        "outputId": "417bb637-61ad-46b3-e9bc-ed7bb3ad1a9f"
      },
      "execution_count": 4,
      "outputs": [
        {
          "output_type": "stream",
          "name": "stdout",
          "text": [
            "Enter a number8\n",
            "The factorial of 8 is 40320\n"
          ]
        }
      ]
    },
    {
      "cell_type": "markdown",
      "source": [
        "# 4.Accept numbers using Input() function until the user enters zero.If user input is zero then break the while loop and display sum of all numbers.\n"
      ],
      "metadata": {
        "id": "Yli11M7pC3qw"
      }
    },
    {
      "cell_type": "code",
      "source": [
        "# Initialize sum\n",
        "\n",
        "total_sum = 0\n",
        "while True:\n",
        "    # Accept user input\n",
        "    number = float(input(\"Enter 90a number (or 0 to stop): \"))\n",
        "\n",
        "    if number == 0:  # Break the loop if the user enters zero\n",
        "        break\n",
        "\n",
        "    total_sum += number  # Add the number to the total sum\n",
        "\n",
        "# Display the sum of all numbers\n",
        "print(\"The sum of all numbers is:\", total_sum)"
      ],
      "metadata": {
        "colab": {
          "base_uri": "https://localhost:8080/"
        },
        "id": "xdf00oOFb4QD",
        "outputId": "c4557950-857d-4744-9fce-9c5c341a208b"
      },
      "execution_count": 6,
      "outputs": [
        {
          "output_type": "stream",
          "name": "stdout",
          "text": [
            "Enter a number (or 0 to stop): 8\n",
            "Enter a number (or 0 to stop): 9\n",
            "Enter a number (or 0 to stop): 04\n",
            "Enter a number (or 0 to stop): 8\n",
            "Enter a number (or 0 to stop): 0\n",
            "The sum of all numbers is: 29.0\n"
          ]
        }
      ]
    },
    {
      "cell_type": "code",
      "source": [],
      "metadata": {
        "id": "S9E-_78jb3uh"
      },
      "execution_count": null,
      "outputs": []
    },
    {
      "cell_type": "code",
      "source": [],
      "metadata": {
        "id": "1sHXGmW4b3q2"
      },
      "execution_count": null,
      "outputs": []
    },
    {
      "cell_type": "code",
      "source": [],
      "metadata": {
        "id": "FkKE_XhWb3cN"
      },
      "execution_count": null,
      "outputs": []
    },
    {
      "cell_type": "code",
      "execution_count": null,
      "metadata": {
        "id": "rW310_DlBkFN"
      },
      "outputs": [],
      "source": []
    }
  ]
}