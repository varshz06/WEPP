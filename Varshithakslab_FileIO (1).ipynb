{
  "nbformat": 4,
  "nbformat_minor": 0,
  "metadata": {
    "colab": {
      "provenance": []
    },
    "kernelspec": {
      "name": "python3",
      "display_name": "Python 3"
    },
    "language_info": {
      "name": "python"
    }
  },
  "cells": [
    {
      "cell_type": "markdown",
      "source": [
        "#1)Write a function in python to read the content the content from a text file \"ABC.txt\" line by line and display the same on screen"
      ],
      "metadata": {
        "id": "eJOimawTxtOA"
      }
    },
    {
      "cell_type": "code",
      "source": [
        "# Function to read content from a text file and display it line by line\n",
        "def read_file_line_by_line():\n",
        "    try:\n",
        "        # Open the file 'abc1.txt' in read mode ('r')\n",
        "        with open('abc1.txt', 'r') as file:\n",
        "            # Reading the file line by line\n",
        "            for line in file:\n",
        "                # Print each line, 'end' ensures no additional new line is added\n",
        "                print(line, end='')\n",
        "\n",
        "    except FileNotFoundError:\n",
        "        # Handle the case when the file is not found\n",
        "        print(\"Error: The file 'abc1.txt' was not found.\")\n",
        "    except IOError as e:\n",
        "        # Handle other IO related errors\n",
        "        print(f\"An error occurred while reading the file: {e}\")\n",
        "\n",
        "# Example usage\n",
        "read_file_line_by_line()\n"
      ],
      "metadata": {
        "colab": {
          "base_uri": "https://localhost:8080/"
        },
        "id": "HcP1BC-TCGr-",
        "outputId": "f009bd74-0817-4aeb-e43a-902c71310f85"
      },
      "execution_count": 2,
      "outputs": [
        {
          "output_type": "stream",
          "name": "stdout",
          "text": [
            "Success is not final, failure is not fatal: \n",
            "It is the courage to continue that counts. – Winston Churchill\n"
          ]
        }
      ]
    },
    {
      "cell_type": "markdown",
      "source": [
        "#2)Write a function in python code to count and display the total number of words in a text file \"ABC.txt\""
      ],
      "metadata": {
        "id": "4_y12FPIybD1"
      }
    },
    {
      "cell_type": "code",
      "source": [
        "# Function to count and display the total number of words in a text file\n",
        "def count_words_in_file():\n",
        "    try:\n",
        "        # Open the file 'abc1.txt' in read mode ('r')\n",
        "        with open('abc1.txt', 'r') as file:\n",
        "            # Initialize the word count to 0\n",
        "            word_count = 0\n",
        "\n",
        "            # Loop through each line in the file\n",
        "            for line in file:\n",
        "                # Split the line into words and count the number of words\n",
        "                words = line.split()\n",
        "                word_count += len(words)\n",
        "\n",
        "            # Display the total word count\n",
        "            print(f\"Total number of words in the file: {word_count}\")\n",
        "\n",
        "    except FileNotFoundError:\n",
        "        # Handle the case when the file does not exist\n",
        "        print(\"Error: The file 'ABC1.txt' was not found.\")\n",
        "    except IOError as e:\n",
        "        # Handle other IO related errors\n",
        "        print(f\"An error occurred while reading the file: {e}\")\n",
        "\n",
        "# Example usage\n",
        "count_words_in_file()\n",
        "\n"
      ],
      "metadata": {
        "colab": {
          "base_uri": "https://localhost:8080/"
        },
        "id": "cjBMt3CFDUac",
        "outputId": "1f8afd49-9260-41d0-eab4-858cbcfbf73e"
      },
      "execution_count": 3,
      "outputs": [
        {
          "output_type": "stream",
          "name": "stdout",
          "text": [
            "Total number of words in the file: 19\n"
          ]
        }
      ]
    },
    {
      "cell_type": "markdown",
      "source": [
        "#3)Write a function in python to count uppercase character in a text file \"ABC.txt\""
      ],
      "metadata": {
        "id": "v_yrGmDCzSk7"
      }
    },
    {
      "cell_type": "code",
      "source": [
        "# Function to count and display the number of uppercase characters in a text file\n",
        "def count_uppercase_characters():\n",
        "    try:\n",
        "        # Open the file 'abc1.txt' in read mode ('r')\n",
        "        with open('abc1.txt', 'r') as file:\n",
        "            # Initialize the counter for uppercase characters\n",
        "            uppercase_count = 0\n",
        "\n",
        "            # Loop through each line in the file\n",
        "            for line in file:\n",
        "                # Loop through each character in the line\n",
        "                for char in line:\n",
        "                    # Check if the character is uppercase\n",
        "                    if char.isupper():\n",
        "                        uppercase_count += 1\n",
        "\n",
        "            # Display the total uppercase character count\n",
        "            print(f\"Total number of uppercase characters in the file: {uppercase_count}\")\n",
        "\n",
        "    except FileNotFoundError:\n",
        "        # Handle the case when the file does not exist\n",
        "        print(\"Error: The file 'ABC1.txt' was not found.\")\n",
        "    except IOError as e:\n",
        "        # Handle other IO related errors\n",
        "        print(f\"An error occurred while reading the file: {e}\")\n",
        "\n",
        "# Example usage\n",
        "count_uppercase_characters()\n"
      ],
      "metadata": {
        "colab": {
          "base_uri": "https://localhost:8080/"
        },
        "id": "mMNuaIbyDvoz",
        "outputId": "13d5c4ab-efa8-4378-e323-c7bd9958430a"
      },
      "execution_count": 4,
      "outputs": [
        {
          "output_type": "stream",
          "name": "stdout",
          "text": [
            "Total number of uppercase characters in the file: 4\n"
          ]
        }
      ]
    },
    {
      "cell_type": "markdown",
      "source": [
        "#4)Write a function display_words() in python to read lines from a text a file from a text file \"story.txt\",and display those words , which are less than 4 characters\n"
      ],
      "metadata": {
        "id": "5-CTf9A5z3_Q"
      }
    },
    {
      "cell_type": "code",
      "execution_count": 6,
      "metadata": {
        "colab": {
          "base_uri": "https://localhost:8080/"
        },
        "id": "DNzhxl2wxf2c",
        "outputId": "20728ffd-d2a1-445a-8df7-2c0944da27b2"
      },
      "outputs": [
        {
          "output_type": "stream",
          "name": "stdout",
          "text": [
            "The\n",
            "cat\n",
            "The\n",
            "dog\n",
            "The\n",
            "cat\n",
            "The\n",
            "sun\n"
          ]
        }
      ],
      "source": [
        "# Function to display words less than 4 characters from a text file\n",
        "def display_words():\n",
        "    try:\n",
        "        # Open the file 'story1.txt' in read mode ('r')\n",
        "        with open('Story1.txt', 'r') as file:\n",
        "            # Loop through each line in the file\n",
        "            for line in file:\n",
        "                # Split the line into words\n",
        "                words = line.split()\n",
        "\n",
        "                # Loop through each word and display those with less than 4 characters\n",
        "                for word in words:\n",
        "                    if len(word) < 4:\n",
        "                        print(word)\n",
        "\n",
        "    except FileNotFoundError:\n",
        "        # Handle the case when the file does not exist\n",
        "        print(\"Error: The file 'Story1.txt' was not found.\")\n",
        "    except IOError as e:\n",
        "        # Handle other I/O related errors\n",
        "        print(f\"An error occurred while reading the file: {e}\")\n",
        "\n",
        "# Example usage\n",
        "display_words()\n"
      ]
    },
    {
      "cell_type": "code",
      "source": [],
      "metadata": {
        "id": "doYZdskBHWMF"
      },
      "execution_count": null,
      "outputs": []
    },
    {
      "cell_type": "code",
      "source": [],
      "metadata": {
        "id": "dXrDbv3nHWAK"
      },
      "execution_count": null,
      "outputs": []
    },
    {
      "cell_type": "code",
      "source": [],
      "metadata": {
        "id": "l1PGnJUyb7xn"
      },
      "execution_count": null,
      "outputs": []
    },
    {
      "cell_type": "code",
      "source": [],
      "metadata": {
        "id": "SPFRPbiCb7uH"
      },
      "execution_count": null,
      "outputs": []
    },
    {
      "cell_type": "code",
      "source": [],
      "metadata": {
        "id": "2LTzXAXRb7rQ"
      },
      "execution_count": null,
      "outputs": []
    }
  ]
}