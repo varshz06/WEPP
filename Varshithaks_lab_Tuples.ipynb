{
  "nbformat": 4,
  "nbformat_minor": 0,
  "metadata": {
    "colab": {
      "provenance": []
    },
    "kernelspec": {
      "name": "python3",
      "display_name": "Python 3"
    },
    "language_info": {
      "name": "python"
    }
  },
  "cells": [
    {
      "cell_type": "markdown",
      "source": [
        "# **ASSIGNMENT -12**"
      ],
      "metadata": {
        "id": "k23AWYUEX7ON"
      }
    },
    {
      "cell_type": "markdown",
      "source": [
        "# 1.Write a python program to find the number of times 4 appears on the tuple\n",
        "\n",
        "# input:\n",
        "\n",
        "# tuplex=(2,4,5,6,2,3,4,4,7)\n",
        "# output =3"
      ],
      "metadata": {
        "id": "aTelF1b6YHrH"
      }
    },
    {
      "cell_type": "code",
      "execution_count": 12,
      "metadata": {
        "colab": {
          "base_uri": "https://localhost:8080/"
        },
        "id": "3YhK7LAHX54q",
        "outputId": "00edfb0f-e408-4f7d-bebb-5c6f41137bed"
      },
      "outputs": [
        {
          "output_type": "stream",
          "name": "stdout",
          "text": [
            "The occurence of 4 in tuple is 3\n"
          ]
        }
      ],
      "source": [
        "# Define the tuple\n",
        "t = (2, 4, 5, 6, 2, 3, 4, 4, 7)\n",
        "\n",
        "# Count the occurrences of 4 in the tuple\n",
        "count = t.count(4)\n",
        "\n",
        "# Print the result\n",
        "print(\"The occurence of 4 in tuple is\",count)"
      ]
    },
    {
      "cell_type": "markdown",
      "source": [
        "#2)Write a python program to convert a list to a tuple\n",
        "\n",
        "# input:\n",
        "\n",
        "# listx=[5,10'7,4,15,3]\n",
        "# output\n",
        "# (5,10,7,4,15,3)"
      ],
      "metadata": {
        "id": "90CyPO5EYwsC"
      }
    },
    {
      "cell_type": "code",
      "source": [
        "# Define the list\n",
        "listx = [5, 10, 7, 4, 15, 3]\n",
        "\n",
        "# Convert the list to a tuple manually using a loop\n",
        "tup = ()\n",
        "for item in listx:\n",
        "    tup += (item,)\n",
        "\n",
        "# Print the result\n",
        "print(tup)\n"
      ],
      "metadata": {
        "colab": {
          "base_uri": "https://localhost:8080/"
        },
        "id": "oxrDO4YmaA7h",
        "outputId": "70603cff-ee8d-45b3-e922-23010c40bc8b"
      },
      "execution_count": 13,
      "outputs": [
        {
          "output_type": "stream",
          "name": "stdout",
          "text": [
            "(5, 10, 7, 4, 15, 3)\n"
          ]
        }
      ]
    },
    {
      "cell_type": "markdown",
      "source": [
        "# 3)Write a python program to calculate the sum of the numbers in a given tuple\n",
        "\n",
        "# input\n",
        "\n",
        "# tuple_list=[(1,2),(3,4),(5,6)]\n",
        "\n",
        "# output:\n",
        "\n",
        "# sum of values in the tuple :21\n"
      ],
      "metadata": {
        "id": "JkKyaV0waBdy"
      }
    },
    {
      "cell_type": "code",
      "source": [
        "# Define the list of tuples\n",
        "tuple_list = [(1, 2), (3, 4), (5, 6)]\n",
        "\n",
        "# Initialize a variable to hold the total sum\n",
        "total_sum = 0\n",
        "\n",
        "# Iterate through each tuple and add the sum of its elements to the total\n",
        "for tup in tuple_list:\n",
        "    for num in tup:\n",
        "        total_sum += num\n",
        "\n",
        "# Print the result\n",
        "print(\"Sum of values in the tuple:\", total_sum)\n"
      ],
      "metadata": {
        "colab": {
          "base_uri": "https://localhost:8080/"
        },
        "id": "Tl0GzkCjawv1",
        "outputId": "087d736f-c990-44a0-c556-3bc25381089c"
      },
      "execution_count": 14,
      "outputs": [
        {
          "output_type": "stream",
          "name": "stdout",
          "text": [
            "Sum of values in the tuple: 21\n"
          ]
        }
      ]
    },
    {
      "cell_type": "markdown",
      "source": [
        "#4.Write a python program and iterate the gib=ven tuples\n",
        "\n",
        "#input:\n",
        "\n",
        "#employee1=(\"John Doe\",101,\"Human Resources\",60000)\n",
        "#employee2=(\"Alice Smith\",102,\"Marketing\",55000)\n",
        "#employee3=(\"Bob Johnson\",103,\"Engineerng\",75000)\n",
        "\n",
        "#Output:\n",
        "\n",
        "#Employee Records\n",
        "----------------\n",
        "#Name: John Doe\n",
        "#Emplyoee Id:101\n",
        "#Department:Human Resources\n",
        "#Salary:60000\n",
        "--\n",
        "#Name: Alice Smith\n",
        "#Emplyoee Id:102\n",
        "#Department:Marketing\n",
        "#Salary:55000\n",
        "--\n",
        "#Name: Bob Johnson\n",
        "#Emplyoee Id:103\n",
        "#Department:Engineerng\n",
        "#Salary:75000"
      ],
      "metadata": {
        "id": "pfcYOCthayfx"
      }
    },
    {
      "cell_type": "code",
      "source": [
        "# Define the employee tuples\n",
        "employee1 = (\"John Doe\", 101, \"Human Resources\", 60000)\n",
        "employee2 = (\"Alice Smith\", 102, \"Marketing\", 55000)\n",
        "employee3 = (\"Bob Johnson\", 103, \"Engineering\", 75000)\n",
        "\n",
        "# Create a tuple of employee tuples\n",
        "employees = (employee1, employee2, employee3)\n",
        "\n",
        "# Print Employee Records\n",
        "print(\"Employee Records\")\n",
        "for employee in employees:\n",
        "    print(f\"Name: {employee[0]}\")\n",
        "    print(f\"Employee Id: {employee[1]}\")\n",
        "    print(f\"Department: {employee[2]}\")\n",
        "    print(f\"Salary: {employee[3]}\")\n",
        "    print(\"--\")\n",
        "\n"
      ],
      "metadata": {
        "colab": {
          "base_uri": "https://localhost:8080/"
        },
        "id": "PT5m6EVJhpIr",
        "outputId": "110a68f8-cff1-48d2-8ec3-c4688fa3c11b"
      },
      "execution_count": 15,
      "outputs": [
        {
          "output_type": "stream",
          "name": "stdout",
          "text": [
            "Employee Records\n",
            "Name: John Doe\n",
            "Employee Id: 101\n",
            "Department: Human Resources\n",
            "Salary: 60000\n",
            "--\n",
            "Name: Alice Smith\n",
            "Employee Id: 102\n",
            "Department: Marketing\n",
            "Salary: 55000\n",
            "--\n",
            "Name: Bob Johnson\n",
            "Employee Id: 103\n",
            "Department: Engineering\n",
            "Salary: 75000\n",
            "--\n"
          ]
        }
      ]
    },
    {
      "cell_type": "code",
      "source": [],
      "metadata": {
        "id": "GhZILYzNorD_"
      },
      "execution_count": null,
      "outputs": []
    },
    {
      "cell_type": "code",
      "source": [],
      "metadata": {
        "id": "Kdg63E4HorAt"
      },
      "execution_count": null,
      "outputs": []
    },
    {
      "cell_type": "code",
      "source": [],
      "metadata": {
        "id": "ji7nSSfBoq9t"
      },
      "execution_count": null,
      "outputs": []
    },
    {
      "cell_type": "code",
      "source": [],
      "metadata": {
        "id": "i83HSUnLoq69"
      },
      "execution_count": null,
      "outputs": []
    },
    {
      "cell_type": "code",
      "source": [],
      "metadata": {
        "id": "ZKLYEJjqoq4e"
      },
      "execution_count": null,
      "outputs": []
    }
  ]
}