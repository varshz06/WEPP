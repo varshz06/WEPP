{
  "nbformat": 4,
  "nbformat_minor": 0,
  "metadata": {
    "colab": {
      "provenance": []
    },
    "kernelspec": {
      "name": "python3",
      "display_name": "Python 3"
    },
    "language_info": {
      "name": "python"
    }
  },
  "cells": [
    {
      "cell_type": "markdown",
      "source": [
        "#  **Assignmnent**"
      ],
      "metadata": {
        "id": "PvCs9q5NMwRN"
      }
    },
    {
      "cell_type": "markdown",
      "source": [
        "# 1.Calculate the Multiplication and sum of two numbers"
      ],
      "metadata": {
        "id": "Ycg7391tM69I"
      }
    },
    {
      "cell_type": "code",
      "execution_count": null,
      "metadata": {
        "colab": {
          "base_uri": "https://localhost:8080/"
        },
        "id": "dIOdIe8PLB1Y",
        "outputId": "bb3d16e2-c5a5-41c0-e3e7-555a43306f80"
      },
      "outputs": [
        {
          "output_type": "stream",
          "name": "stdout",
          "text": [
            "Enter first number34\n",
            "Enter second number55\n",
            "num 1 34\n",
            "num 2 55\n",
            "Multipication of two number\n",
            "1870\n",
            "Addition of two number\n",
            "89\n"
          ]
        }
      ],
      "source": [
        "#Get two num values\n",
        "\n",
        "num1=int(input(\"Enter first number\"))\n",
        "num2=int(input(\"Enter second number\"))\n",
        "\n",
        "#display two num\n",
        "print(\"num 1\",num1)\n",
        "print(\"num 2\",num2)\n",
        "\n",
        "#Multiplication\n",
        "multi=num1*num2\n",
        "\n",
        "print(\"Multipication of two number\")\n",
        "print(multi)\n",
        "\n",
        "#Addition\n",
        "\n",
        "sum=num1+num2\n",
        "print(\"Addition of two number\")\n",
        "print(sum)"
      ]
    },
    {
      "cell_type": "markdown",
      "source": [
        "# 2.Declare two variables and print that which variable is largest using ternary operators\n"
      ],
      "metadata": {
        "id": "yDg56pXwPTrB"
      }
    },
    {
      "cell_type": "code",
      "source": [
        "#declaring 2 variables\n",
        "\n",
        "var1 = 71\n",
        "var2 = 43\n",
        "\n",
        "#ternary operator\n",
        "print(f\"{var1} is greater\") if var1 > var2 else print(f\"{var2} is greater\")"
      ],
      "metadata": {
        "colab": {
          "base_uri": "https://localhost:8080/"
        },
        "id": "TgGiB2XZODVZ",
        "outputId": "f2bd3fb2-8c3f-4b3e-edb3-b1b61e5cdd05"
      },
      "execution_count": null,
      "outputs": [
        {
          "output_type": "stream",
          "name": "stdout",
          "text": [
            "71 is greater\n"
          ]
        }
      ]
    },
    {
      "cell_type": "markdown",
      "source": [
        "# 3.Python program to covert the temperature in degree centigrate to Fahrenheit\n"
      ],
      "metadata": {
        "id": "tlam2bV9QMPA"
      }
    },
    {
      "cell_type": "code",
      "source": [
        "#taking centigrate degree that is celisus as input\n",
        "\n",
        "celisus = int(input(\"Enter the temperature in celisus degree\"))\n",
        "#print(celisus)\n",
        "\n",
        "#converting entered celisus to farenheit using formula F = (C * 9/5) + 32\n",
        "farenheit=(celisus*9/5)+32\n",
        "print(\"Farenheit degree\",farenheit)"
      ],
      "metadata": {
        "colab": {
          "base_uri": "https://localhost:8080/"
        },
        "id": "gb_ng0cxQH9g",
        "outputId": "2db6bc18-fe4e-4d3e-fa28-a0057ada35cd"
      },
      "execution_count": null,
      "outputs": [
        {
          "output_type": "stream",
          "name": "stdout",
          "text": [
            "Enter the temperature in celisus degree45\n",
            "Farenheit degree 113.0\n"
          ]
        }
      ]
    },
    {
      "cell_type": "markdown",
      "source": [
        "# 4.Python Program to find the area of triangle whose sides are given"
      ],
      "metadata": {
        "id": "AxYg_0KXR3iM"
      }
    },
    {
      "cell_type": "code",
      "source": [
        "#input sides of triangle\n",
        "#let sides of triangle be a , b ,c\n",
        "\n",
        "a=float(input(\"enter first side of triangle\\t\"))\n",
        "b=float(input(\"enter second side of triangle\\t\"))\n",
        "c=float(input(\"enter third side of triangle\\t\"))\n",
        "\n",
        "#to find area of triangle when only sides are given\n",
        "#step1: find semi perimeter using formula s = (a+b+c)/2\n",
        "\n",
        "s=(a+b+c)/2\n",
        "print(\"semi-perimeter\",s)\n",
        "\n",
        "#area of triangle will be A = √[s(s-a)(s-b)(s-c)]\n",
        "\n",
        "area=(s*(s-a)*(s-b)*(s-c))**0.5\n",
        "\n",
        "print(\"Area of Traingle is %0.2f\" %area)"
      ],
      "metadata": {
        "colab": {
          "base_uri": "https://localhost:8080/"
        },
        "id": "lq_he3SCRzMv",
        "outputId": "3e6f30aa-db52-470c-80c5-7ee88ef1336c"
      },
      "execution_count": null,
      "outputs": [
        {
          "output_type": "stream",
          "name": "stdout",
          "text": [
            "enter first side of triangle\t15\n",
            "enter second side of triangle\t20\n",
            "enter third side of triangle\t9\n",
            "semi-perimeter 22.0\n",
            "Area of Traingle is 63.28\n"
          ]
        }
      ]
    },
    {
      "cell_type": "code",
      "source": [],
      "metadata": {
        "id": "XzRmOKwHUVX9"
      },
      "execution_count": null,
      "outputs": []
    }
  ]
}