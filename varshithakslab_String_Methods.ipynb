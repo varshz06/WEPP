{
  "nbformat": 4,
  "nbformat_minor": 0,
  "metadata": {
    "colab": {
      "provenance": []
    },
    "kernelspec": {
      "name": "python3",
      "display_name": "Python 3"
    },
    "language_info": {
      "name": "python"
    }
  },
  "cells": [
    {
      "cell_type": "markdown",
      "source": [
        "# **ASSIGNMENT -09**"
      ],
      "metadata": {
        "id": "dVTsC4zH6AsO"
      }
    },
    {
      "cell_type": "markdown",
      "source": [
        "# Write a python program to Count all letters , digits, and special Symbols from the given string\n",
        "\n",
        "# input:\"P@#yn26at^&i5ve\"\n",
        "# Output: chars=8 Digits= 2 symbol =3\n"
      ],
      "metadata": {
        "id": "mRzm2HIm6Z8h"
      }
    },
    {
      "cell_type": "code",
      "source": [
        "# Input given string\n",
        "input_str = \"P@#yn26at^&i5ve\"\n",
        "\n",
        "# Initialize counters\n",
        "letters_count = 0\n",
        "digits_count = 0\n",
        "symbols_count = 0\n",
        "\n",
        "# Loop through each character in the string\n",
        "for char in input_str:\n",
        "    if char.isalpha():  # Check if the character is a letter\n",
        "        letters_count += 1\n",
        "    elif char.isdigit():  # Check if the character is a digit\n",
        "        digits_count += 1\n",
        "    elif not char.isalnum():  # Check if the character is a special symbol\n",
        "        symbols_count += 1\n",
        "\n",
        "# Print the results\n",
        "print(\"chars =\", letters_count, \"Digits =\", digits_count, \"symbol =\", symbols_count)\n",
        "\n"
      ],
      "metadata": {
        "colab": {
          "base_uri": "https://localhost:8080/"
        },
        "id": "RFclaYPf6QBc",
        "outputId": "40f2fc4a-1376-4707-902b-9cca1e0923f4"
      },
      "execution_count": 9,
      "outputs": [
        {
          "output_type": "stream",
          "name": "stdout",
          "text": [
            "chars = 8 Digits = 3 symbol = 4\n"
          ]
        }
      ]
    },
    {
      "cell_type": "markdown",
      "source": [
        "# Write a python program to remove duplicate characters of a given string\n",
        "\n",
        "#input=\"String and String Function\"\n",
        "#output=\"String and  Function\""
      ],
      "metadata": {
        "id": "sgTjZsTmRx9O"
      }
    },
    {
      "cell_type": "code",
      "source": [
        "# Input string\n",
        "input_str = \"String and String Function\"\n",
        "\n",
        "# Split the input string into words\n",
        "words = input_str.split()\n",
        "\n",
        "#to store unique words\n",
        "unique_words = []\n",
        "\n",
        "# Loop through each word in the list\n",
        "for word in words:\n",
        "    if word not in unique_words:  # If the word is not already in unique_words\n",
        "        unique_words.append(word)  # Add the word to unique_words\n",
        "\n",
        "# Join the unique words back into a string\n",
        "output_str = \" \".join(unique_words)\n",
        "\n",
        "# Print the result\n",
        "print(\"Output:\", output_str)\n"
      ],
      "metadata": {
        "colab": {
          "base_uri": "https://localhost:8080/"
        },
        "id": "3M1ujYovarWm",
        "outputId": "18ed8938-171e-4bed-8b85-ebf95958f51a"
      },
      "execution_count": 12,
      "outputs": [
        {
          "output_type": "stream",
          "name": "stdout",
          "text": [
            "Output: String and Function\n"
          ]
        }
      ]
    },
    {
      "cell_type": "markdown",
      "source": [
        "# Write a Python Program to count  Uppercase Lowercase Special character and Numeric values in a given string:\n",
        "\n",
        "# input = \"Hell0 W0rld ! 123 * # welcome to pYtHoN\"\n",
        "# output:\n",
        "#  Uppercase :5\n",
        "#  Lowercase :18\n",
        "#  Numbercase :5\n",
        "#  Specialcase :11"
      ],
      "metadata": {
        "id": "WP3WPFYbTEcr"
      }
    },
    {
      "cell_type": "code",
      "source": [
        "# Input string\n",
        "text = \"Hell0 W0rld ! 123 * # welcome to pYtHoN\"\n",
        "\n",
        "# Initialize counters for different character types\n",
        "upper = 0\n",
        "lower = 0\n",
        "digits = 0\n",
        "special = 0\n",
        "\n",
        "# Loop through each character in the string\n",
        "for ch in text:\n",
        "    if ch.isupper():  # Check if the character is uppercase\n",
        "        upper += 1\n",
        "    elif ch.islower():  # Check if the character is lowercase\n",
        "        lower += 1\n",
        "    elif ch.isdigit():  # Check if the character is a digit\n",
        "        digits += 1\n",
        "    else:  # If it's neither uppercase, lowercase, nor a digit, it's a special character\n",
        "        special += 1\n",
        "\n",
        "# Print the results\n",
        "print(f\"Uppercase: {upper}\")\n",
        "print(f\"Lowercase: {lower}\")\n",
        "print(f\"Digits: {digits}\")\n",
        "print(f\"Special Characters: {special}\")\n",
        "\n"
      ],
      "metadata": {
        "colab": {
          "base_uri": "https://localhost:8080/"
        },
        "id": "-i6KA9IETDzS",
        "outputId": "ac10f2c0-e3c2-4002-f146-e5fe4848b383"
      },
      "execution_count": 13,
      "outputs": [
        {
          "output_type": "stream",
          "name": "stdout",
          "text": [
            "Uppercase: 5\n",
            "Lowercase: 18\n",
            "Digits: 5\n",
            "Special Characters: 11\n"
          ]
        }
      ]
    },
    {
      "cell_type": "markdown",
      "source": [
        "#Write a python program  to count vowels in a string\n",
        "\n",
        "# input = Welcome to Python Assignment\"\n",
        "#output= Total vowels are :08"
      ],
      "metadata": {
        "id": "6hFwOMWMVIV5"
      }
    },
    {
      "cell_type": "code",
      "execution_count": 14,
      "metadata": {
        "colab": {
          "base_uri": "https://localhost:8080/"
        },
        "id": "oSB3psu03ssf",
        "outputId": "52d75822-cd9f-4016-84bf-e175f7897cf5"
      },
      "outputs": [
        {
          "output_type": "stream",
          "name": "stdout",
          "text": [
            "Total vowels are: 8\n"
          ]
        }
      ],
      "source": [
        "# Input string\n",
        "input_str = \"Welcome to Python Assignment\"\n",
        "\n",
        "# Initialize a counter for vowels\n",
        "vowel_count = 0\n",
        "\n",
        "# Loop through each character and check if it's a vowel\n",
        "for char in input_str:\n",
        "    if char in 'aeiouAEIOU':  # Check if the character is a vowel\n",
        "        vowel_count += 1\n",
        "\n",
        "# Print the result\n",
        "print(\"Total vowels are:\", vowel_count)\n",
        "\n"
      ]
    }
  ]
}