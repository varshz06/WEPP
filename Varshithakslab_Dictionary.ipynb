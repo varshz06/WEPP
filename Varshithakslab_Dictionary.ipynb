{
  "nbformat": 4,
  "nbformat_minor": 0,
  "metadata": {
    "colab": {
      "provenance": []
    },
    "kernelspec": {
      "name": "python3",
      "display_name": "Python 3"
    },
    "language_info": {
      "name": "python"
    }
  },
  "cells": [
    {
      "cell_type": "markdown",
      "source": [
        "# **ASSIGNMENT - 11**"
      ],
      "metadata": {
        "id": "IbViM_J35Ew8"
      }
    },
    {
      "cell_type": "markdown",
      "source": [
        "# 1.Write a python program and calculate the mean of the below dictionary\n",
        "\n",
        "# test_dict={\"A\":6,\"B\":9,\"C\":5,\"D\":7,\"E\":4}\n",
        "# output:6.2"
      ],
      "metadata": {
        "id": "LerWMZDX9x-U"
      }
    },
    {
      "cell_type": "code",
      "execution_count": 1,
      "metadata": {
        "colab": {
          "base_uri": "https://localhost:8080/"
        },
        "id": "qOg66JAH5Aj8",
        "outputId": "159badc0-c89e-4fb1-8128-283830432f31"
      },
      "outputs": [
        {
          "output_type": "stream",
          "name": "stdout",
          "text": [
            "6.2\n"
          ]
        }
      ],
      "source": [
        "# Define the dictionary\n",
        "test_dict = {\"A\": 6, \"B\": 9, \"C\": 5, \"D\": 7, \"E\": 4}\n",
        "\n",
        "# Calculate the mean\n",
        "mean_value = sum(test_dict.values()) / len(test_dict)\n",
        "\n",
        "# Print the result\n",
        "print(mean_value)"
      ]
    },
    {
      "cell_type": "markdown",
      "source": [
        "# 2)Write a python Script to concatenate the following dictionaries to create a new one:\n",
        "\n",
        "# sample dictionary\n",
        "\n",
        "# dict1={1:10,2:20}\n",
        "# dict2={3:30,4:40}\n",
        "# dict3={5:50,6:60}\n",
        "\n",
        "# expected result : {1:10,2:20,3:30,4:40,5:50,6:60}"
      ],
      "metadata": {
        "id": "fn1ge8N-A6_p"
      }
    },
    {
      "cell_type": "code",
      "source": [
        "# Define the dictionaries\n",
        "dict1 = {1: 10, 2: 20}\n",
        "dict2 = {3: 30, 4: 40}\n",
        "dict3 = {5: 50, 6: 60}\n",
        "\n",
        "# Concatenate the dictionaries\n",
        "concatenated_dict = {**dict1, **dict2, **dict3}\n",
        "\n",
        "# Print the concatenated result\n",
        "print(concatenated_dict)"
      ],
      "metadata": {
        "colab": {
          "base_uri": "https://localhost:8080/"
        },
        "id": "09YtZK-XCTug",
        "outputId": "0ff04e5c-e065-4e3b-e3b3-5bb439f3c32d"
      },
      "execution_count": 2,
      "outputs": [
        {
          "output_type": "stream",
          "name": "stdout",
          "text": [
            "{1: 10, 2: 20, 3: 30, 4: 40, 5: 50, 6: 60}\n"
          ]
        }
      ]
    },
    {
      "cell_type": "markdown",
      "source": [
        "# 3)write a python program to get the key,value and item in a dictionary\n",
        "\n",
        "input:\n",
        "\n",
        "dict_num ={1:10,2:20,3:30,4:40,5:50,6:60}\n",
        "\n",
        "output\n",
        "\n",
        "  key  |  value\n",
        "-------|-----------\n",
        "  1    |   10\n",
        "  2    |   20\n",
        "  3    |   30\n",
        "  4    |   40\n",
        "  5    |   50\n",
        "  6    |   60"
      ],
      "metadata": {
        "id": "OSqeKbzoCUMR"
      }
    },
    {
      "cell_type": "code",
      "source": [
        "# Define the dictionary\n",
        "dict_num = {1: 10, 2: 20, 3: 30, 4: 40, 5: 50, 6: 60}\n",
        "\n",
        "# Print the header\n",
        "print(\"key\\tvalue\")\n",
        "\n",
        "# Iterate through the dictionary and print each key-value pair\n",
        "for key, value in dict_num.items():\n",
        "    print(f\"{key}\\t{value}\")\n",
        "\n"
      ],
      "metadata": {
        "colab": {
          "base_uri": "https://localhost:8080/"
        },
        "id": "JfRq3C_YIXuz",
        "outputId": "547a0279-94f4-4d7f-83dd-53e2a354a040"
      },
      "execution_count": 3,
      "outputs": [
        {
          "output_type": "stream",
          "name": "stdout",
          "text": [
            "key\tvalue\n",
            "1\t10\n",
            "2\t20\n",
            "3\t30\n",
            "4\t40\n",
            "5\t50\n",
            "6\t60\n"
          ]
        }
      ]
    },
    {
      "cell_type": "markdown",
      "source": [
        "#4)write a python program to get the key, value and item in a dictionary.\n",
        "\n",
        "# input:\n",
        "\n",
        "# input_dict={1:10,2:20,3:None,4:40,5:None;6:60}\n",
        "\n",
        "# output:\n",
        "#Dictionay with empty items dropped:\n",
        "# {1:10,2:10,4:40,6:60}"
      ],
      "metadata": {
        "id": "mi8KG3unDdSB"
      }
    },
    {
      "cell_type": "code",
      "source": [
        "# Define the input dictionary\n",
        "input_dict = {1: 10, 2: 20, 3: None, 4: 40, 5: None, 6: 60}\n",
        "\n",
        "# Use dictionary comprehension to filter out the items where the value is None\n",
        "filtered_dict = {key: value for key, value in input_dict.items() if value is not None}\n",
        "\n",
        "# Print the result\n",
        "print(\"Dictionary with empty items dropped:\")\n",
        "print(filtered_dict)\n"
      ],
      "metadata": {
        "colab": {
          "base_uri": "https://localhost:8080/"
        },
        "id": "-yQSFqAwFSo-",
        "outputId": "9168c109-c0c2-4018-9882-8e565e479726"
      },
      "execution_count": 4,
      "outputs": [
        {
          "output_type": "stream",
          "name": "stdout",
          "text": [
            "Dictionary with empty items dropped:\n",
            "{1: 10, 2: 20, 4: 40, 6: 60}\n"
          ]
        }
      ]
    },
    {
      "cell_type": "markdown",
      "source": [],
      "metadata": {
        "id": "pbwXp-8zm75h"
      }
    },
    {
      "cell_type": "code",
      "source": [],
      "metadata": {
        "id": "txkhV22yI20b"
      },
      "execution_count": null,
      "outputs": []
    },
    {
      "cell_type": "code",
      "source": [],
      "metadata": {
        "id": "NeLzxWYVI2w-"
      },
      "execution_count": null,
      "outputs": []
    },
    {
      "cell_type": "code",
      "source": [],
      "metadata": {
        "id": "NXk-u-NcI2uL"
      },
      "execution_count": null,
      "outputs": []
    },
    {
      "cell_type": "code",
      "source": [],
      "metadata": {
        "id": "cZaRS87wI2re"
      },
      "execution_count": null,
      "outputs": []
    },
    {
      "cell_type": "code",
      "source": [],
      "metadata": {
        "id": "YjDwIUg3I2o5"
      },
      "execution_count": null,
      "outputs": []
    }
  ]
}