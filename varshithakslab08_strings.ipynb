{
  "nbformat": 4,
  "nbformat_minor": 0,
  "metadata": {
    "colab": {
      "provenance": []
    },
    "kernelspec": {
      "name": "python3",
      "display_name": "Python 3"
    },
    "language_info": {
      "name": "python"
    }
  },
  "cells": [
    {
      "cell_type": "markdown",
      "source": [
        "# **Assignment 07**"
      ],
      "metadata": {
        "id": "h67V4xLBOXD7"
      }
    },
    {
      "cell_type": "markdown",
      "source": [
        "# 1.Write a Python program to count the occurences of each word in a given sentence\n",
        "# string=\"To change the overall look of your document.To change the look available in the gallery\""
      ],
      "metadata": {
        "id": "0Qrb7W6mdOGJ"
      }
    },
    {
      "cell_type": "code",
      "source": [
        "#the string\n",
        "string = \"To change the overall look of your document. To change the look available in the gallery\"\n",
        "\n",
        "# Remove all  punctuation and convert to lowercase\n",
        "string = string.replace(\".\", \"\").lower()\n",
        "\n",
        "# Split the string into words and count occurences\n",
        "word_count = {}\n",
        "\n",
        "for word in string.split():\n",
        "    word_count[word] = word_count.get(word, 0) + 1\n",
        "\n",
        "# displaying word with their occurences\n",
        "for word, count in word_count.items():\n",
        "    print(f\"'{word}'  : {count}\")\n"
      ],
      "metadata": {
        "colab": {
          "base_uri": "https://localhost:8080/"
        },
        "id": "KB_s2IGPNX3_",
        "outputId": "d0242e10-ab9a-412c-d266-c9e3a0d0ba8b"
      },
      "execution_count": 4,
      "outputs": [
        {
          "output_type": "stream",
          "name": "stdout",
          "text": [
            "'to'  : 2\n",
            "'change'  : 2\n",
            "'the'  : 3\n",
            "'overall'  : 1\n",
            "'look'  : 2\n",
            "'of'  : 1\n",
            "'your'  : 1\n",
            "'document'  : 1\n",
            "'available'  : 1\n",
            "'in'  : 1\n",
            "'gallery'  : 1\n"
          ]
        }
      ]
    },
    {
      "cell_type": "markdown",
      "source": [
        "# 2.Write a Python program to remove a newline in python\n",
        "# string =\"\\nBest\\nDeeptech\\nPython \\nTraining\\n\""
      ],
      "metadata": {
        "id": "Db27tO_jOHCj"
      }
    },
    {
      "cell_type": "code",
      "source": [
        "#the  string\n",
        "string = \"\\nBest\\nDeeptech\\nPython \\nTraining\\n\"\n",
        "\n",
        "# Replace newlines with spaces\n",
        "string_with_spaces = string.replace(\"\\n\", \" \")\n",
        "\n",
        "print(\"String with spaces instead of newlines:\", string_with_spaces)"
      ],
      "metadata": {
        "colab": {
          "base_uri": "https://localhost:8080/"
        },
        "id": "IHzcW0LNPuC_",
        "outputId": "17e23a1d-cda3-405a-8198-129ffacfcac5"
      },
      "execution_count": 5,
      "outputs": [
        {
          "output_type": "stream",
          "name": "stdout",
          "text": [
            "String with spaces instead of newlines:  Best Deeptech Python  Training \n"
          ]
        }
      ]
    },
    {
      "cell_type": "markdown",
      "source": [
        "# 3.Write aPython Program To reverse words in a string\n",
        "# string= \"Deeptech Python Training\""
      ],
      "metadata": {
        "id": "pLZC5O39Not8"
      }
    },
    {
      "cell_type": "code",
      "source": [
        "# The string\n",
        "string = \"Deeptech Python Training\"\n",
        "\n",
        "#The split() method splits the string into a list of words based on space\n",
        "# Split the string into words and reverse the list of words\n",
        "reversed_string = ' '.join(string.split()[::-1])\n",
        "\n",
        "# Print the reversed string\n",
        "print(\"Reversed words:\", reversed_string)"
      ],
      "metadata": {
        "colab": {
          "base_uri": "https://localhost:8080/"
        },
        "id": "VXqwQEisTprJ",
        "outputId": "d4382e87-e881-4bd2-d024-b4f2dd45af28"
      },
      "execution_count": 6,
      "outputs": [
        {
          "output_type": "stream",
          "name": "stdout",
          "text": [
            "Reversed words: Training Python Deeptech\n"
          ]
        }
      ]
    },
    {
      "cell_type": "markdown",
      "source": [
        "# 4.Write a Python Program to count and display the vowels of a given text\n",
        "\n",
        "# string = \"Welcome to python Training\""
      ],
      "metadata": {
        "id": "RcLYA-uyUDHa"
      }
    },
    {
      "cell_type": "code",
      "source": [
        "#the string\n",
        "string = \"Welcome to python Training\"\n",
        "\n",
        "# Define vowels as a set\n",
        "vowels = {'a', 'e', 'i', 'o', 'u'}\n",
        "\n",
        "# storing  the count of each vowel\n",
        "vowel_count = {vowel: 0 for vowel in vowels}\n",
        "\n",
        "# Loop through the string and count vowels\n",
        "for char in string:\n",
        "    if char.lower() in vowels:  # Case insensitive check\n",
        "        vowel_count[char.lower()] += 1\n",
        "\n",
        "# Display the count of each vowel\n",
        "print(\"The vowels present in the String are\")\n",
        "for vowel, count in vowel_count.items():\n",
        "    if count > 0:  # Only display vowels that are present in the string\n",
        "        print(f\"{vowel}: {count}\")\n"
      ],
      "metadata": {
        "colab": {
          "base_uri": "https://localhost:8080/"
        },
        "id": "l8kWUzH2UZ1S",
        "outputId": "efe02f86-e814-4a95-9cab-0d587bfb57a4"
      },
      "execution_count": 10,
      "outputs": [
        {
          "output_type": "stream",
          "name": "stdout",
          "text": [
            "The vowels present in the String are\n",
            "a: 1\n",
            "e: 2\n",
            "o: 3\n",
            "i: 2\n"
          ]
        }
      ]
    }
  ]
}