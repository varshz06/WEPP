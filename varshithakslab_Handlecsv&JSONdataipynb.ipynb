{
  "nbformat": 4,
  "nbformat_minor": 0,
  "metadata": {
    "colab": {
      "provenance": []
    },
    "kernelspec": {
      "name": "python3",
      "display_name": "Python 3"
    },
    "language_info": {
      "name": "python"
    }
  },
  "cells": [
    {
      "cell_type": "markdown",
      "source": [
        "#**Assignment -16**"
      ],
      "metadata": {
        "id": "Sha_j5tddFMN"
      }
    },
    {
      "cell_type": "markdown",
      "source": [
        "# 1.Write a python program script to read a CSV file with missing values and replace the missing values with a default values (ex:unknown or 0)\n",
        "\n",
        "# sample data(missing_value.csv)\n",
        "                         \n",
        "```\n",
        "#Name,Age,City\n",
        " Alice, ,NewYork\n",
        " Bob,25,\n",
        " Charlie,35,Chicago\n",
        "```\n",
        "\n",
        "\n",
        "#Output\n",
        "```\n",
        "# ['Name','Age','City']\n",
        "['Alice', 'Unknown' ,'NewYork']\n",
        "['Bob', '25', 'Unkown']\n",
        "['Charlie', '35', 'Chicago']\n",
        "```\n",
        "\n"
      ],
      "metadata": {
        "id": "95bRR4lydsvt"
      }
    },
    {
      "cell_type": "code",
      "execution_count": 2,
      "metadata": {
        "colab": {
          "base_uri": "https://localhost:8080/"
        },
        "id": "BnLNtBk-c_dj",
        "outputId": "25d49301-26f7-4110-eaec-622115fada8e"
      },
      "outputs": [
        {
          "output_type": "stream",
          "name": "stdout",
          "text": [
            "['Name', 'Age', 'City']\n",
            "['Alice', ' ', 'NewYork']\n",
            "['Bob', '25', 'Unknown']\n",
            "['Charlie', '35', 'Chicago']\n"
          ]
        }
      ],
      "source": [
        "import csv\n",
        "\n",
        "def replace_missing_values(input_file, output_file, default_value=\"Unknown\"):\n",
        "    try:\n",
        "        # Open the input CSV file and read the rows into a list\n",
        "        with open(input_file, mode='r', newline='') as infile:\n",
        "            rows = list(csv.reader(infile))\n",
        "\n",
        "        # Iterate over each row, replacing empty fields with the default value\n",
        "        for i in range(1, len(rows)):\n",
        "            rows[i] = [field if field else default_value for field in rows[i]]\n",
        "            print(rows[i])  # Display the updated row\n",
        "\n",
        "        # Write the updated rows to a new output file\n",
        "        with open(output_file, mode='w', newline='') as outfile:\n",
        "            csv.writer(outfile).writerows(rows)\n",
        "\n",
        "        print(f\"\\nUpdated CSV file saved as '{output_file}'.\")  # Confirm file save\n",
        "\n",
        "    except Exception as e:\n",
        "        # Handle any exceptions (file not found, permission issues, etc.)\n",
        "        print(f\"Error: {e}\")\n",
        "\n",
        "# Example usage\n",
        "replace_missing_values('missing_value.csv', 'updated_missing_value.csv')\n",
        "\n"
      ]
    },
    {
      "cell_type": "markdown",
      "source": [
        "#2)Write a Python Script to validate JSON data by checking if it contains required fields and if the data types are correct(eg:Integers for IDs ,Strings for names)\n",
        "\n",
        "sample data(data.json)\n",
        "\n",
        "\n",
        "```\n",
        "[\n",
        "  {\n",
        "    \"product Id\":101,\n",
        "    \"Name\":\"WidgetA\",\n",
        "    \"Price\":25.50\n",
        "  },\n",
        "  {\n",
        "    \"product Id\":\"102\",\n",
        "    \"Name\":\"WidgetB\",\n",
        "    \"Price\":\"40.00\"\n",
        "  }\n",
        "\n",
        "```\n",
        "\n",
        "#Output\n",
        "#Invalid product id:102\n",
        "#invalid price:40.00\n"
      ],
      "metadata": {
        "id": "BxPUJJ0-gbAV"
      }
    },
    {
      "cell_type": "code",
      "source": [
        "import json\n",
        "\n",
        "# Function to validate JSON data\n",
        "def validate_json_data(json_data):\n",
        "    # Iterate over each item in the JSON data\n",
        "    for item in json_data:\n",
        "        # Validate 'product Id' should be an integer\n",
        "        if not isinstance(item.get('product Id'), int):\n",
        "            print(f\"Invalid product id: {item.get('product Id')}\")\n",
        "\n",
        "        # Validate 'Name' should be a string\n",
        "        if not isinstance(item.get('Name'), str):\n",
        "            print(f\"Invalid Name: {item.get('Name')}\")\n",
        "\n",
        "        # Validate 'Price' should be a float or integer\n",
        "        if not isinstance(item.get('Price'), (float, int)):\n",
        "            print(f\"Invalid price: {item.get('Price')}\")\n",
        "\n",
        "# Function to load JSON data from a file\n",
        "def load_json_from_file(file_name):\n",
        "    try:\n",
        "        # Open and read the file\n",
        "        with open(file_name, 'r') as file:\n",
        "            return json.load(file)\n",
        "    except FileNotFoundError:\n",
        "        print(f\"Error: The file '{file_name}' was not found.\")\n",
        "    except json.JSONDecodeError:\n",
        "        print(\"Error: The file contains invalid JSON.\")\n",
        "    return []\n",
        "\n",
        "# Example usage\n",
        "file_name = 'data.json'  # Replace with your actual JSON file path\n",
        "json_data = load_json_from_file(file_name)\n",
        "\n",
        "# Validate the JSON data if it's loaded successfully\n",
        "if json_data:\n",
        "    validate_json_data(json_data)\n",
        "\n"
      ],
      "metadata": {
        "colab": {
          "base_uri": "https://localhost:8080/"
        },
        "id": "wNOxPFBUh4pj",
        "outputId": "7bc6cefa-66b2-4a79-f51b-59ef33e77bab"
      },
      "execution_count": 8,
      "outputs": [
        {
          "output_type": "stream",
          "name": "stdout",
          "text": [
            "Invalid product id: 102\n",
            "Invalid price: 40.00\n"
          ]
        }
      ]
    },
    {
      "cell_type": "code",
      "source": [],
      "metadata": {
        "id": "e37-2y3IkxU6"
      },
      "execution_count": null,
      "outputs": []
    },
    {
      "cell_type": "code",
      "source": [],
      "metadata": {
        "id": "Wsw3H9QskxRb"
      },
      "execution_count": null,
      "outputs": []
    },
    {
      "cell_type": "code",
      "source": [],
      "metadata": {
        "id": "Fa88PJcSkxOQ"
      },
      "execution_count": null,
      "outputs": []
    },
    {
      "cell_type": "code",
      "source": [],
      "metadata": {
        "id": "AAcVaPohkxLJ"
      },
      "execution_count": null,
      "outputs": []
    }
  ]
}